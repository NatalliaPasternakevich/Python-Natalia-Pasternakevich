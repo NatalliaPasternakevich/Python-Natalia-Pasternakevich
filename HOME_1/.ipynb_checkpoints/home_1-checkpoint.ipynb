{
 "cells": [
  {
   "cell_type": "code",
   "execution_count": 3,
   "id": "4a69d71b",
   "metadata": {},
   "outputs": [],
   "source": [
    "text = \"Не знаю, как там в Лондоне, я не была.\"\\\n",
    "\" Может, там собака - друг человека.\"\\\n",
    "\" А у нас управдом - друг человека!\"\n"
   ]
  },
  {
   "cell_type": "code",
   "execution_count": 4,
   "id": "603628b9",
   "metadata": {},
   "outputs": [
    {
     "name": "stdout",
     "output_type": "stream",
     "text": [
      "Не знаю, как там в Лондоне, я не была. Может, там собака - друг человека. А у нас управдом - друг человека!\n"
     ]
    }
   ],
   "source": [
    "print(text)"
   ]
  },
  {
   "cell_type": "code",
   "execution_count": 5,
   "id": "52fb8810",
   "metadata": {},
   "outputs": [
    {
     "name": "stdout",
     "output_type": "stream",
     "text": [
      "Шаг 1 - Количество символов - 107\n"
     ]
    }
   ],
   "source": [
    "text_1 = \"Шаг 1 - Количество символов -\"\n",
    "print(text_1,(len(text)))"
   ]
  },
  {
   "cell_type": "code",
   "execution_count": 6,
   "id": "1b3f94ca",
   "metadata": {},
   "outputs": [
    {
     "name": "stdout",
     "output_type": "stream",
     "text": [
      "Шаг 2 - Развернутая строка - !акеволеч гурд - модварпу сан у А .акеволеч гурд - акабос мат ,тежоМ .алыб ен я ,енодноЛ в мат как ,юанз еН\n"
     ]
    }
   ],
   "source": [
    "text_2 = \"Шаг 2 - Развернутая строка -\"\n",
    "def reverse(text):\n",
    "    return text[::-1]\n",
    "print(text_2, reverse(text))"
   ]
  },
  {
   "cell_type": "code",
   "execution_count": 7,
   "id": "fbcd00b9",
   "metadata": {},
   "outputs": [
    {
     "name": "stdout",
     "output_type": "stream",
     "text": [
      "Шаг 3 - Каждое слово с большой буквы - Не Знаю, Как Там В Лондоне, Я Не Была. Может, Там Собака - Друг Человека. А У Нас Управдом - Друг Человека!\n"
     ]
    }
   ],
   "source": [
    "text_3 = \"Шаг 3 - Каждое слово с большой буквы -\"\n",
    "print(text_3, text.title())"
   ]
  },
  {
   "cell_type": "code",
   "execution_count": 8,
   "id": "488b64bc",
   "metadata": {},
   "outputs": [
    {
     "name": "stdout",
     "output_type": "stream",
     "text": [
      "Шаг 4 - Весь текст прописными буквами - НЕ ЗНАЮ, КАК ТАМ В ЛОНДОНЕ, Я НЕ БЫЛА. МОЖЕТ, ТАМ СОБАКА - ДРУГ ЧЕЛОВЕКА. А У НАС УПРАВДОМ - ДРУГ ЧЕЛОВЕКА!\n"
     ]
    }
   ],
   "source": [
    "text_4 = \"Шаг 4 - Весь текст прописными буквами -\"\n",
    "print(text_4, text.upper())"
   ]
  },
  {
   "cell_type": "code",
   "execution_count": 9,
   "id": "c6779dea",
   "metadata": {},
   "outputs": [
    {
     "name": "stdout",
     "output_type": "stream",
     "text": [
      "Шаг 5 - Число вхождений 'нд' - 1 ,'ам' -  2 ,'o' -  7\n"
     ]
    }
   ],
   "source": [
    "text_5 = \"Шаг 5 - Число вхождений в строку -\"\n",
    "counter1 = text.count('нд')\n",
    "counter2 = text.count('ам')\n",
    "counter3 = text.count('о')\n",
    "print(\"Шаг 5 - Число вхождений 'нд' -\", counter1,  \",'ам' - \", counter2,\",'o' - \", counter3,)"
   ]
  },
  {
   "cell_type": "code",
   "execution_count": 26,
   "id": "f4451734",
   "metadata": {},
   "outputs": [
    {
     "name": "stdout",
     "output_type": "stream",
     "text": [
      "Шаг 6 - Собственное упражнение - Не\n",
      "знаю,\n",
      "как\n",
      "там\n",
      "в\n",
      "Лондоне,\n",
      "я\n",
      "не\n",
      "была.\n",
      "Может,\n",
      "там\n",
      "собака\n",
      "—\n",
      "друг\n",
      "человека.\n",
      "А\n",
      "у\n",
      "нас\n",
      "управдом\n",
      "—\n",
      "друг\n",
      "человека!\n"
     ]
    }
   ],
   "source": [
    "t = \"Не знаю, как там в Лондоне, я не была. Может, там собака — друг человека. А у нас управдом — друг человека!\"\n",
    "splitted = t.split(' ')\n",
    "print('Шаг 6 - Собственное упражнение -','\\n'.join(splitted))"
   ]
  },
  {
   "cell_type": "code",
   "execution_count": 23,
   "id": "5f19b32e",
   "metadata": {},
   "outputs": [
    {
     "name": "stdout",
     "output_type": "stream",
     "text": [
      "Шаг 7 - Развернуть предложение - человека! друг — управдом нас у А человека. друг — собака там Может, была. не я Лондоне, в там как знаю, Не\n"
     ]
    }
   ],
   "source": [
    "s = \"Не знаю, как там в Лондоне, я не была. Может, там собака — друг человека. А у нас управдом — друг человека!\"\n",
    "def string_reverse(s):\n",
    "    list = s.split () \n",
    "    return ' ' .join (list [:: - 1]) \n",
    "print ('Шаг 7 - Развернуть предложение -',string_reverse (s))"
   ]
  },
  {
   "cell_type": "code",
   "execution_count": null,
   "id": "4cc2f664",
   "metadata": {},
   "outputs": [],
   "source": []
  }
 ],
 "metadata": {
  "kernelspec": {
   "display_name": "Python 3.10.6 64-bit",
   "language": "python",
   "name": "python3"
  },
  "language_info": {
   "codemirror_mode": {
    "name": "ipython",
    "version": 3
   },
   "file_extension": ".py",
   "mimetype": "text/x-python",
   "name": "python",
   "nbconvert_exporter": "python",
   "pygments_lexer": "ipython3",
   "version": "3.10.6"
  },
  "vscode": {
   "interpreter": {
    "hash": "aee8b7b246df8f9039afb4144a1f6fd8d2ca17a180786b69acc140d282b71a49"
   }
  }
 },
 "nbformat": 4,
 "nbformat_minor": 5
}
