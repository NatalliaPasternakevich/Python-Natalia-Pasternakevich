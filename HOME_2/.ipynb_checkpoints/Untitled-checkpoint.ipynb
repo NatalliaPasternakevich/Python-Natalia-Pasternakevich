{
 "cells": [
  {
   "cell_type": "code",
   "execution_count": 1,
   "id": "7e03ea97",
   "metadata": {},
   "outputs": [
    {
     "name": "stdout",
     "output_type": "stream",
     "text": [
      "16 17 18 19 20 21 22 23 24 25 26 27 28 29 30 31 32 33 34 35 36 37 38 39 "
     ]
    }
   ],
   "source": [
    "for i in range(16, 40):\n",
    "    print(i, end=' ')\n",
    "    "
   ]
  },
  {
   "cell_type": "code",
   "execution_count": 44,
   "id": "4d75a72f",
   "metadata": {},
   "outputs": [
    {
     "name": "stdout",
     "output_type": "stream",
     "text": [
      "Введите ваш вес (кг):67\n",
      "Введите ваш рост(см):178\n",
      "Ваш индекс массы тела: 21\n"
     ]
    }
   ],
   "source": [
    "a = int(input(\"Введите ваш вес (кг):\"))\n",
    "b = int(input(\"Введите ваш рост(см):\"))\n",
    "bmi = round(a/(b/100)**2)\n",
    "print('Ваш индекс массы тела:',bmi)\n",
    "\n",
    "    \n"
   ]
  },
  {
   "cell_type": "code",
   "execution_count": 45,
   "id": "a1177bf6",
   "metadata": {},
   "outputs": [
    {
     "name": "stdout",
     "output_type": "stream",
     "text": [
      "16=====|===========32\n"
     ]
    }
   ],
   "source": [
    "print(str(16),\"=\"*(bmi-16),\"|\",\"=\"*(32-bmi),str(32),sep='')\n"
   ]
  },
  {
   "cell_type": "code",
   "execution_count": null,
   "id": "bcc6902c",
   "metadata": {},
   "outputs": [],
   "source": [
    "\n"
   ]
  },
  {
   "cell_type": "code",
   "execution_count": 27,
   "id": "bd01dac3",
   "metadata": {},
   "outputs": [
    {
     "data": {
      "text/plain": [
       "'=========='"
      ]
     },
     "execution_count": 27,
     "metadata": {},
     "output_type": "execute_result"
    }
   ],
   "source": [
    "'='*10\n"
   ]
  },
  {
   "cell_type": "code",
   "execution_count": null,
   "id": "56c2475d",
   "metadata": {},
   "outputs": [],
   "source": []
  }
 ],
 "metadata": {
  "kernelspec": {
   "display_name": "Python 3.10.6 64-bit",
   "language": "python",
   "name": "python3106jvsc74a57bd0aee8b7b246df8f9039afb4144a1f6fd8d2ca17a180786b69acc140d282b71a49"
  },
  "language_info": {
   "codemirror_mode": {
    "name": "ipython",
    "version": 3
   },
   "file_extension": ".py",
   "mimetype": "text/x-python",
   "name": "python",
   "nbconvert_exporter": "python",
   "pygments_lexer": "ipython3",
   "version": "3.10.6"
  }
 },
 "nbformat": 4,
 "nbformat_minor": 5
}
