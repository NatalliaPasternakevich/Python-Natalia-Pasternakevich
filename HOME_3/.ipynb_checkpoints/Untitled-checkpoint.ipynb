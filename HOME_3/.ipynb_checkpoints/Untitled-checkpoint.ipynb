{
 "cells": [
  {
   "cell_type": "code",
   "execution_count": 25,
   "id": "3d50f63d",
   "metadata": {},
   "outputs": [
    {
     "name": "stdout",
     "output_type": "stream",
     "text": [
      "Введите первое значение a:60\n",
      "Введите второе значение b:7\n",
      "Введите третье значение c:7\n"
     ]
    }
   ],
   "source": [
    "name = \"Введите числа от 0 до 100\"\n",
    "a = int(input(\"Введите первое значение a:\" ))\n",
    "b = int(input(\"Введите второе значение b:\" ))\n",
    "c = int(input(\"Введите третье значение c:\" ))\n"
   ]
  },
  {
   "cell_type": "code",
   "execution_count": 11,
   "id": "e1868bd2",
   "metadata": {},
   "outputs": [
    {
     "name": "stdout",
     "output_type": "stream",
     "text": [
      "\"Нет нулевых значений!!!\"\n"
     ]
    }
   ],
   "source": [
    "resalt = a > 0 and b > 0 and c > 0 and print('\"Нет нулевых значений!!!\"') "
   ]
  },
  {
   "cell_type": "code",
   "execution_count": 12,
   "id": "62214652",
   "metadata": {},
   "outputs": [],
   "source": [
    "resalt = a == 0 and b == 0 and c == 0 and print('\"Введены все нули\"')"
   ]
  },
  {
   "cell_type": "code",
   "execution_count": 26,
   "id": "f1f71d41",
   "metadata": {},
   "outputs": [
    {
     "name": "stdout",
     "output_type": "stream",
     "text": [
      "a-b-c\n"
     ]
    }
   ],
   "source": [
    "if a > (b + c):\n",
    "    print(\"a-b-c\")\n",
    "else:\n",
    "    print(\"b+c-a\")\n",
    "    \n"
   ]
  },
  {
   "cell_type": "code",
   "execution_count": 24,
   "id": "c4d6beb3",
   "metadata": {},
   "outputs": [
    {
     "name": "stdout",
     "output_type": "stream",
     "text": [
      "Вася\n"
     ]
    }
   ],
   "source": [
    "if a > 50 and c > a:\n",
    "    print(\"Вася\")\n",
    "elif a > 5 or b == 7 and c == 7:\n",
    "    print(\"Петя\")\n",
    "else:\n",
    "    print(a, b, c)"
   ]
  },
  {
   "cell_type": "code",
   "execution_count": null,
   "id": "5d7fcec0",
   "metadata": {},
   "outputs": [],
   "source": [
    "weight = int(input(\"Введите ваш вес (кг): \"))\n",
    "height = int(input(\"Введите ваш рост(см): \"))\n",
    "female = input(\"Введите пол(м или ж): \")\n",
    "age = int(input(\"Введите ваш возраст: \"))\n",
    "bmi = round(weight/(height/100)**2)\n",
    "print(str(16),\"=\"*(bmi-16),\"|\",\"=\"*(32-bmi),str(32),sep='')\n",
    "if female == \"м\" and age <= 30 and bmi < 16:\n",
    "    print (\"Индекс массы тела слишком низкий. Обратитесь к врачу\")\n",
    "elif female == \"м\" and age <= 30 and (bmi >= 16 and bmi <= 18):\n",
    "    print (\"Индекс тела равен:\", \"%.2f\" % bmi, \"кг/м².\", \"У Вас выраженный дефицит массы тела, нужно поднять калорийность порций путем увеличения принимаемой пищи и более частого приема с использованием белковых продуктов.\")\n",
    "elif female == \"м\" and age <= 30 and (bmi >= 19 and bmi <= 25):\n",
    "    print (\"Индекс тела равен:\", \"%.2f\" % bmi, \"кг/м².\", \"У Вас хороший индекс массы тела, так держать. Питайтейтесь так же правильно и делайте каждый свой день прекрасным.\")\n",
    "elif female == \"м\" and age <= 30 and (bmi >= 26 and bmi <= 32):\n",
    "    print (\"Индекс тела равен:\", \"%.2f\" % bmi, \"кг/м².\", \"У Вас избыточная масса тела (предожирение),нужно снизить количество употребляемой пищи, исключить из рациона жирные продукты, уменьшить прием яиц, кофе, алкоголя, разнообразить питание достаточным количеством овощей и др.\")\n",
    "\n",
    "\n",
    "\n",
    "\n"
   ]
  },
  {
   "cell_type": "code",
   "execution_count": null,
   "id": "642f5d96",
   "metadata": {},
   "outputs": [],
   "source": [
    "if bmi >= 16 and bmi <= 18.5:\n",
    "    print (\"Индекс тела равен:\", \"%.2f\" % bmi, \"кг/м²\", \"У Вас выраженный дефицит массы тела, нужно поднять калорийность порций путем увеличения принимаемой пищи и более частого приема с использованием белковых продуктов.\")\n",
    "elif bmi >= 18.5 and bmi <= 24.99:\n",
    "    print (\"Индекс тела равен:\", \"%.2f\" % bmi, \"кг/м²\", \"У Вас хороший индекс массы тела, так держать. Питайтейтесь так же правильно и делайте каждый свой день прекрасным.\")\n",
    "elif fbmi >= 25 and bmi <= 32:\n",
    "    print (\"Индекс тела равен:\", \"%.2f\" % bmi, \"кг/м²\", \"У Вас избыточная масса тела (предожирение),нужно снизить количество употребляемой пищи, исключить из рациона жирные продукты, уменьшить прием яиц, кофе, алкоголя, разнообразить питание достаточным количеством овощей и др.\")\n",
    "\n",
    "\n"
   ]
  },
  {
   "cell_type": "code",
   "execution_count": null,
   "id": "9872082c",
   "metadata": {},
   "outputs": [],
   "source": [
    "female1 = (\"м\")\n",
    "female2 = (\"ж\")\n",
    "age1 = range(19, 30)\n",
    "age2 = range(30, 40)\n",
    "age3 = range(40, 50)\n",
    "age4 = range(50, 61)"
   ]
  },
  {
   "cell_type": "code",
   "execution_count": null,
   "id": "b8ddf2c4",
   "metadata": {},
   "outputs": [],
   "source": [
    "\"У Вас избыточная масса тела (предожирение),нужно снизить количество употребляемой пищи, исключить из рациона жирные продукты, уменьшить прием яиц, кофе, алкоголя, разнообразить питание достаточным количеством овощей и др.\"\"\n"
   ]
  },
  {
   "cell_type": "code",
   "execution_count": null,
   "id": "31827d0a",
   "metadata": {},
   "outputs": [],
   "source": [
    "\"У Вас выраженный дефицит массы тела, нужно поднять калорийность порций путем увеличения принимаемой пищи и более частого приема с использованием белковых продуктов.\")"
   ]
  },
  {
   "cell_type": "code",
   "execution_count": null,
   "id": "39f5d97d",
   "metadata": {},
   "outputs": [],
   "source": [
    "\"У Вас хороший индекс массы тела, так держать. Питайтейтесь так же правильно и делайте каждый свой день прекрасным.\""
   ]
  },
  {
   "cell_type": "code",
   "execution_count": null,
   "id": "08997817",
   "metadata": {},
   "outputs": [],
   "source": [
    "else:\n",
    "    print (\"Индекс массы тела превышен. Обратитесь к врачу\")"
   ]
  },
  {
   "cell_type": "code",
   "execution_count": null,
   "id": "c6f3a351",
   "metadata": {},
   "outputs": [],
   "source": []
  },
  {
   "cell_type": "code",
   "execution_count": null,
   "id": "8d6ea592",
   "metadata": {},
   "outputs": [],
   "source": []
  },
  {
   "cell_type": "code",
   "execution_count": null,
   "id": "9621afa2",
   "metadata": {},
   "outputs": [],
   "source": []
  },
  {
   "cell_type": "code",
   "execution_count": null,
   "id": "f368967e",
   "metadata": {},
   "outputs": [],
   "source": []
  }
 ],
 "metadata": {
  "kernelspec": {
   "display_name": "Python 3.10.6 64-bit",
   "language": "python",
   "name": "python3106jvsc74a57bd0aee8b7b246df8f9039afb4144a1f6fd8d2ca17a180786b69acc140d282b71a49"
  },
  "language_info": {
   "codemirror_mode": {
    "name": "ipython",
    "version": 3
   },
   "file_extension": ".py",
   "mimetype": "text/x-python",
   "name": "python",
   "nbconvert_exporter": "python",
   "pygments_lexer": "ipython3",
   "version": "3.10.6"
  }
 },
 "nbformat": 4,
 "nbformat_minor": 5
}
