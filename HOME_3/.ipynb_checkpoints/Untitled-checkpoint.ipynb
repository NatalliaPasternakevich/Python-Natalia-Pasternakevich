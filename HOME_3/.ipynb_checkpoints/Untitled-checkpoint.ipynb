{
 "cells": [
  {
   "cell_type": "code",
   "execution_count": null,
   "id": "3d50f63d",
   "metadata": {},
   "outputs": [],
   "source": [
    "name = \"Введите числа от 0 до 100\"\n",
    "a = int(input(\"Введите первое значение a:\" ))\n",
    "b = int(input(\"Введите второе значение b:\" ))\n",
    "c = int(input(\"Введите третье значение c:\" ))\n"
   ]
  },
  {
   "cell_type": "code",
   "execution_count": 48,
   "id": "e1868bd2",
   "metadata": {},
   "outputs": [
    {
     "name": "stdout",
     "output_type": "stream",
     "text": [
      "\"Нет нулевых значений!!!\"\n"
     ]
    }
   ],
   "source": [
    "resalt = a > 0 and b > 0 and c > 0 and print('\"Нет нулевых значений!!!\"') "
   ]
  },
  {
   "cell_type": "code",
   "execution_count": 49,
   "id": "62214652",
   "metadata": {},
   "outputs": [],
   "source": [
    "resalt = a == 0 and b == 0 and c == 0 and print('\"Введены все нули\"')"
   ]
  },
  {
   "cell_type": "code",
   "execution_count": 57,
   "id": "f1f71d41",
   "metadata": {},
   "outputs": [
    {
     "name": "stdout",
     "output_type": "stream",
     "text": [
      "b+c-a\n"
     ]
    }
   ],
   "source": [
    "if a > (b + c):\n",
    "    print(\"a-b-c\")\n",
    "else:\n",
    "    print(\"b+c-a\")\n",
    "    \n"
   ]
  },
  {
   "cell_type": "code",
   "execution_count": 94,
   "id": "c4d6beb3",
   "metadata": {},
   "outputs": [
    {
     "name": "stdout",
     "output_type": "stream",
     "text": [
      "Петя\n"
     ]
    }
   ],
   "source": [
    "if a > 50 and c > a:\n",
    "    print(\"Вася\")\n",
    "elif a > 5 or b == 7 and c == 7:\n",
    "    print(\"Петя\")\n",
    "else:\n",
    "    print(a, b, c)"
   ]
  },
  {
   "cell_type": "code",
   "execution_count": 82,
   "id": "5d7fcec0",
   "metadata": {},
   "outputs": [
    {
     "name": "stdout",
     "output_type": "stream",
     "text": [
      "Петя\n"
     ]
    }
   ],
   "source": []
  },
  {
   "cell_type": "code",
   "execution_count": null,
   "id": "642f5d96",
   "metadata": {},
   "outputs": [],
   "source": []
  }
 ],
 "metadata": {
  "kernelspec": {
   "display_name": "Python 3.10.6 64-bit",
   "language": "python",
   "name": "python3106jvsc74a57bd0aee8b7b246df8f9039afb4144a1f6fd8d2ca17a180786b69acc140d282b71a49"
  },
  "language_info": {
   "codemirror_mode": {
    "name": "ipython",
    "version": 3
   },
   "file_extension": ".py",
   "mimetype": "text/x-python",
   "name": "python",
   "nbconvert_exporter": "python",
   "pygments_lexer": "ipython3",
   "version": "3.10.6"
  }
 },
 "nbformat": 4,
 "nbformat_minor": 5
}
