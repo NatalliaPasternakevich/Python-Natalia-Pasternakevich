{
 "cells": [
  {
   "cell_type": "code",
   "execution_count": 30,
   "id": "3d50f63d",
   "metadata": {},
   "outputs": [
    {
     "name": "stdout",
     "output_type": "stream",
     "text": [
      "Введите первое значение:55\n",
      "Введите второе значение:67\n",
      "Введите третье значение:67\n"
     ]
    }
   ],
   "source": [
    "name = \"Введите числа от 0 до 100\"\n",
    "a = int(input(\"Введите первое значение:\" ))\n",
    "b = int(input(\"Введите второе значение:\" ))\n",
    "c = int(input(\"Введите третье значение:\" ))\n"
   ]
  },
  {
   "cell_type": "code",
   "execution_count": 37,
   "id": "e1868bd2",
   "metadata": {},
   "outputs": [
    {
     "name": "stdout",
     "output_type": "stream",
     "text": [
      "\"Нет нулевых значений!!!\"\n"
     ]
    }
   ],
   "source": [
    "resalt = a > 0 and b > 0 and c > 0 and print('\"Нет нулевых значений!!!\"') "
   ]
  },
  {
   "cell_type": "code",
   "execution_count": 28,
   "id": "62214652",
   "metadata": {},
   "outputs": [],
   "source": [
    "resalt = a == 0 and b == 0 and c == 0 and print('\"Введены все нули\"')"
   ]
  },
  {
   "cell_type": "code",
   "execution_count": 38,
   "id": "f1f71d41",
   "metadata": {},
   "outputs": [
    {
     "name": "stdout",
     "output_type": "stream",
     "text": [
      "b+c-a\n"
     ]
    }
   ],
   "source": [
    "if a > (b + c):\n",
    "    print(\"a-b-c\")\n",
    "elif a < (b + c):\n",
    "    print(\"b+c-a\")\n",
    "elif a > 50 and b or c > a:\n",
    "    print(\"Вася\")\n",
    "elif a > 5 or (b and c) > 7:\n",
    "    print(\"Петя\")\n",
    "else:\n",
    "    print(\"Нет значения\")"
   ]
  },
  {
   "cell_type": "code",
   "execution_count": 36,
   "id": "ddb95d54",
   "metadata": {},
   "outputs": [
    {
     "ename": "TypeError",
     "evalue": "'>' not supported between instances of 'str' and 'int'",
     "output_type": "error",
     "traceback": [
      "\u001b[0;31m---------------------------------------------------------------------------\u001b[0m",
      "\u001b[0;31mTypeError\u001b[0m                                 Traceback (most recent call last)",
      "Input \u001b[0;32mIn [36]\u001b[0m, in \u001b[0;36m<cell line: 1>\u001b[0;34m()\u001b[0m\n\u001b[0;32m----> 1\u001b[0m \u001b[38;5;28;01mif\u001b[39;00m \u001b[43ma\u001b[49m\u001b[43m \u001b[49m\u001b[38;5;241;43m>\u001b[39;49m\u001b[43m \u001b[49m\u001b[38;5;241;43m50\u001b[39;49m \u001b[38;5;129;01mand\u001b[39;00m b \u001b[38;5;129;01mor\u001b[39;00m c \u001b[38;5;241m>\u001b[39m a:\n\u001b[1;32m      2\u001b[0m     \u001b[38;5;28mprint\u001b[39m(\u001b[38;5;124m\"\u001b[39m\u001b[38;5;124mВася\u001b[39m\u001b[38;5;124m\"\u001b[39m)\n\u001b[1;32m      3\u001b[0m \u001b[38;5;28;01melif\u001b[39;00m a \u001b[38;5;241m>\u001b[39m \u001b[38;5;241m5\u001b[39m \u001b[38;5;129;01mor\u001b[39;00m (b \u001b[38;5;129;01mand\u001b[39;00m c) \u001b[38;5;241m>\u001b[39m \u001b[38;5;241m7\u001b[39m:\n",
      "\u001b[0;31mTypeError\u001b[0m: '>' not supported between instances of 'str' and 'int'"
     ]
    }
   ],
   "source": []
  },
  {
   "cell_type": "code",
   "execution_count": null,
   "id": "c4d6beb3",
   "metadata": {},
   "outputs": [],
   "source": []
  }
 ],
 "metadata": {
  "kernelspec": {
   "display_name": "Python 3.10.6 64-bit",
   "language": "python",
   "name": "python3106jvsc74a57bd0aee8b7b246df8f9039afb4144a1f6fd8d2ca17a180786b69acc140d282b71a49"
  },
  "language_info": {
   "codemirror_mode": {
    "name": "ipython",
    "version": 3
   },
   "file_extension": ".py",
   "mimetype": "text/x-python",
   "name": "python",
   "nbconvert_exporter": "python",
   "pygments_lexer": "ipython3",
   "version": "3.10.6"
  }
 },
 "nbformat": 4,
 "nbformat_minor": 5
}
