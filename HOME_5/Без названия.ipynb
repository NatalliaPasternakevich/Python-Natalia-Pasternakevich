{
 "cells": [
  {
   "cell_type": "code",
   "execution_count": null,
   "id": "dd90ed00",
   "metadata": {},
   "outputs": [],
   "source": [
    "command = []\n",
    "while True:\n",
    "    command = input(\"\\nВведите команду: \").split()\n",
    "    if command == (\" \").split():\n",
    "        break\n",
    "\n"
   ]
  },
  {
   "cell_type": "code",
   "execution_count": null,
   "id": "05636b6d",
   "metadata": {},
   "outputs": [],
   "source": [
    "import math"
   ]
  },
  {
   "cell_type": "code",
   "execution_count": null,
   "id": "9bef2331",
   "metadata": {},
   "outputs": [],
   "source": [
    "range = math.sqrt((x ** 2) + (y ** 2))\n",
    "print (range)\n"
   ]
  },
  {
   "cell_type": "code",
   "execution_count": null,
   "id": "4e9c477c",
   "metadata": {},
   "outputs": [],
   "source": [
    "while True:\n",
    "    command = input(\"\\nВведите команду: \").split()\n",
    "    if command == (\" \").split():\n",
    "        break\n"
   ]
  },
  {
   "cell_type": "code",
   "execution_count": null,
   "id": "c39c907f",
   "metadata": {},
   "outputs": [],
   "source": [
    "range = math.sqrt((x ** 2) + (y ** 2))"
   ]
  },
  {
   "cell_type": "code",
   "execution_count": null,
   "id": "833a0b2e",
   "metadata": {},
   "outputs": [],
   "source": [
    "def func():\n",
    "    command = input(\"\\nВведите команду: \").split()\n",
    "    print (command)\n",
    "    if a == ' ':\n",
    "         func()\n",
    "\n",
    "func()"
   ]
  },
  {
   "cell_type": "markdown",
   "id": "46ed95bb",
   "metadata": {},
   "source": [
    "while True:\n",
    "    qw = input(\"Начать заново? \")\n",
    "    if qw == 'нет':\n",
    "        break"
   ]
  },
  {
   "cell_type": "code",
   "execution_count": null,
   "id": "00f7ced5",
   "metadata": {},
   "outputs": [],
   "source": [
    "import math\n",
    "x = 0\n",
    "y = 0\n",
    "command = [0, 0]                                                        \n",
    "command = input(\"\\nВведите команду: \").split()   \n",
    "command[1] = int(command[1])\n",
    "y = y + command[1]\n",
    "y = y - command[1]\n",
    "x = x + command[1]\n",
    "x = x - command[1]\n",
    "range = math.sqrt((x ** 2) + (y ** 2))\n",
    "print(range)"
   ]
  },
  {
   "cell_type": "code",
   "execution_count": 1,
   "id": "0f8da59d",
   "metadata": {},
   "outputs": [
    {
     "name": "stdout",
     "output_type": "stream",
     "text": [
      "\n",
      "Ввод команды u 5 \n",
      "\n",
      "Ввод команды r 4\n",
      "\n",
      "Ввод команды l 7\n",
      "\n",
      "Ввод команды d 2\n",
      "\n",
      "Ввод команды r 4\n",
      "\n",
      "Ввод команды  \n"
     ]
    }
   ],
   "source": [
    "import math\n",
    "x = 0\n",
    "y = 0\n",
    "command = [0, 0]\n",
    "while True:\n",
    "    command = input(\"\\nВвод команды \").split()\n",
    "    if command == (\" \").split():\n",
    "        break\n"
   ]
  },
  {
   "cell_type": "code",
   "execution_count": 2,
   "id": "5cd8037a",
   "metadata": {},
   "outputs": [
    {
     "ename": "NameError",
     "evalue": "name 'u' is not defined",
     "output_type": "error",
     "traceback": [
      "\u001b[0;31m---------------------------------------------------------------------------\u001b[0m",
      "\u001b[0;31mNameError\u001b[0m                                 Traceback (most recent call last)",
      "Input \u001b[0;32mIn [2]\u001b[0m, in \u001b[0;36m<cell line: 1>\u001b[0;34m()\u001b[0m\n\u001b[0;32m----> 1\u001b[0m \u001b[38;5;28;01mif\u001b[39;00m \u001b[43mu\u001b[49m:\n\u001b[1;32m      2\u001b[0m     y \u001b[38;5;241m=\u001b[39m y \u001b[38;5;241m+\u001b[39m command[u]\n\u001b[1;32m      3\u001b[0m \u001b[38;5;28;01melif\u001b[39;00m d:\n",
      "\u001b[0;31mNameError\u001b[0m: name 'u' is not defined"
     ]
    }
   ],
   "source": [
    "if u:\n",
    "    y = y + command[u]\n",
    "elif d:\n",
    "    y = y - command[d]\n",
    "elif r:\n",
    "    x = x + command[r]\n",
    "elif l:\n",
    "    x = x - command[l]\n",
    "else:\n",
    "    print()\n",
    "\n",
    "range = math.sqrt((x ** 2) + (y ** 2))"
   ]
  },
  {
   "cell_type": "code",
   "execution_count": null,
   "id": "6bdacc99",
   "metadata": {},
   "outputs": [],
   "source": []
  }
 ],
 "metadata": {
  "kernelspec": {
   "display_name": "Python 3.10.6 64-bit",
   "language": "python",
   "name": "python3"
  },
  "language_info": {
   "codemirror_mode": {
    "name": "ipython",
    "version": 3
   },
   "file_extension": ".py",
   "mimetype": "text/x-python",
   "name": "python",
   "nbconvert_exporter": "python",
   "pygments_lexer": "ipython3",
   "version": "3.10.6"
  },
  "vscode": {
   "interpreter": {
    "hash": "aee8b7b246df8f9039afb4144a1f6fd8d2ca17a180786b69acc140d282b71a49"
   }
  }
 },
 "nbformat": 4,
 "nbformat_minor": 5
}
